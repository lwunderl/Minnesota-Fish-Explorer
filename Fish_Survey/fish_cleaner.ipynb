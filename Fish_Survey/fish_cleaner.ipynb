{
 "cells": [
  {
   "cell_type": "code",
   "execution_count": 1,
   "id": "f6a1d742",
   "metadata": {},
   "outputs": [],
   "source": [
    "import pandas as pd\n",
    "import json\n",
    "import re\n",
    "import numpy as np"
   ]
  },
  {
   "cell_type": "code",
   "execution_count": 2,
   "id": "3d55f6f4",
   "metadata": {},
   "outputs": [],
   "source": [
    "lake = pd.read_csv(\"Resources/lake_info/lake_information.csv\", converters={\"Lake ID\": str})\n",
    "length = pd.read_csv(\"Resources/fish_length_info/fish_length.csv\", converters={\"lake_ID\": str, \"survey_ID\": str})\n",
    "catch = pd.read_csv(\"Resources/fish_catch_info/fish_catch.csv\", converters={\"lake_ID\": str, \"survey_ID\": str})\n",
    "was = pd.read_csv(\"Resources/was_info/water_access_information.csv\")"
   ]
  },
  {
   "cell_type": "code",
   "execution_count": 3,
   "id": "ab54919f",
   "metadata": {},
   "outputs": [],
   "source": [
    "#add methods\n",
    "#sort and format year survey data then convert to datetime\n",
    "def survey_date_cleaner(dfseries):\n",
    "    dfseries = dfseries.copy()\n",
    "    for _ in range(len(dfseries)):\n",
    "        dfseries[_] = dfseries[_].replace(\"/\",\"-\")\n",
    "        if matches := re.search(r\"^(\\d?\\d{1})-(\\d?\\d{1})-(\\d{4})$\", dfseries[_], re.IGNORECASE):\n",
    "            dfseries[_] = f\"{matches.group(3)}-{matches.group(2)}-{matches.group(1)}\"\n",
    "        try:\n",
    "            dfseries[_] = pd.to_datetime(dfseries[_],format=\"%Y-%m-%d\")\n",
    "        except ValueError:\n",
    "            if matches := re.search(r\"^(\\d{4})-(\\d?\\d{1})-(\\d?\\d{1})$\", dfseries[_], re.IGNORECASE):\n",
    "                dfseries[_] = f\"{matches.group(1)}-{matches.group(3)}-{matches.group(2)}\"\n",
    "            dfseries[_] = pd.to_datetime(dfseries[_],format=\"%Y-%m-%d\")\n",
    "    dfseries = pd.to_datetime(dfseries,format=\"%Y-%m-%d\")\n",
    "    return dfseries\n",
    "\n",
    "#input CPUE column data series\n",
    "#drop strings from cpue data series and convert to int(found some \"? marks\")\n",
    "def cpue_cleaner(dfseries):\n",
    "    i=0\n",
    "    for _ in dfseries:\n",
    "        try:\n",
    "            np.float64(_)\n",
    "            i = i + 1\n",
    "        except ValueError:\n",
    "            print(i, _,\"valueerror\")\n",
    "            dfseries = dfseries.drop([i])\n",
    "            i = i + 1\n",
    "    dfseries = pd.to_numeric(dfseries)\n",
    "    return dfseries\n",
    "\n",
    "#input fish_count column data series\n",
    "#returns fish_count column in dataframe as a list of individual integer measurements e.g. [0,0,1,1,1,2,3,3,4]\n",
    "def fish_length_cleaner(dfseries):\n",
    "    fish_lengths = []\n",
    "    #scrub each row string and convert to list of lengths sampled\n",
    "    for row in dfseries:\n",
    "        #clean up string of list syntax\n",
    "        sample = row.replace(\"]\",\"\").replace(\"[\",\"\").replace(\" \",\"\").split(\",\")\n",
    "        #breakdown string into list of lengths sampled for row\n",
    "        sample_lengths = []\n",
    "        for n in range(len(sample)):\n",
    "            if n % 2 == 1:\n",
    "                fishlength = int(sample[n-1])\n",
    "                fishcount = int(sample[n])\n",
    "                for c in range(fishcount):\n",
    "                    sample_lengths.append(fishlength)\n",
    "        fish_lengths.append(sample_lengths)\n",
    "    return fish_lengths \n",
    "\n",
    "#input quartile data series\n",
    "#split lower quartile and convert to float\n",
    "def lower_quartile_cleaner(dseries):\n",
    "    quartile_list = []\n",
    "    for quartile in dseries:\n",
    "        try:\n",
    "            if len(quartile.split(\"-\")) == 2:\n",
    "                try:\n",
    "                    quartile_list.append(float(quartile.split(\"-\")[0]))\n",
    "                except ValueError:\n",
    "                    quartile_list.append(float(\"nan\"))\n",
    "                    pass\n",
    "            else:\n",
    "                quartile_list.append(float(\"nan\"))\n",
    "        except AttributeError:\n",
    "            quartile_list.append(quartile)\n",
    "            pass\n",
    "    return quartile_list\n",
    "\n",
    "#input quartile data series\n",
    "#split upper quartile and convert to float\n",
    "def upper_quartile_cleaner(dseries):\n",
    "    quartile_list = []\n",
    "    for quartile in dseries:\n",
    "        try:\n",
    "            if len(quartile.split(\"-\")) == 2:\n",
    "                try:\n",
    "                    quartile_list.append(float(quartile.split(\"-\")[1]))\n",
    "                except ValueError:\n",
    "                    quartile_list.append(float(\"nan\"))\n",
    "                    pass\n",
    "            else:\n",
    "                quartile_list.append(float(\"nan\"))\n",
    "        except AttributeError:\n",
    "            quartile_list.append(quartile)\n",
    "            pass\n",
    "    return quartile_list"
   ]
  },
  {
   "cell_type": "code",
   "execution_count": null,
   "id": "3f872924",
   "metadata": {},
   "outputs": [],
   "source": [
    "lake.info()"
   ]
  },
  {
   "cell_type": "code",
   "execution_count": null,
   "id": "56ceda89",
   "metadata": {},
   "outputs": [],
   "source": [
    "lake = lake.drop_duplicates()\n",
    "lake_coordinates = [json.loads(x) for x in lake[\"Lake Coordinates\"]]\n",
    "longitude = [x[0] for x in lake_coordinates]\n",
    "latitude = [x[1] for x in lake_coordinates]\n",
    "lake[\"Longitude\"] = longitude\n",
    "lake[\"Latitude\"] = latitude\n",
    "lake = lake.drop(columns=[\"Lake Coordinates\"])\n",
    "lake.head()"
   ]
  },
  {
   "cell_type": "code",
   "execution_count": null,
   "id": "b9c934cc",
   "metadata": {},
   "outputs": [],
   "source": [
    "lake.info()"
   ]
  },
  {
   "cell_type": "code",
   "execution_count": null,
   "id": "d1341037",
   "metadata": {},
   "outputs": [],
   "source": [
    "was.info()"
   ]
  },
  {
   "cell_type": "code",
   "execution_count": null,
   "id": "8d6ae627",
   "metadata": {},
   "outputs": [],
   "source": [
    "was = was.drop_duplicates()\n",
    "site_coordinates = [json.loads(x) for x in was[\"Site Coordinates\"]]\n",
    "longitude = [x[0] for x in site_coordinates]\n",
    "latitude = [x[1] for x in site_coordinates]\n",
    "was[\"Longitude\"] = longitude\n",
    "was[\"Latitude\"] = latitude\n",
    "was = was.drop(columns=[\"Site Coordinates\"])\n",
    "was.head()"
   ]
  },
  {
   "cell_type": "code",
   "execution_count": null,
   "id": "c5da460e",
   "metadata": {},
   "outputs": [],
   "source": [
    "was.info()"
   ]
  },
  {
   "cell_type": "code",
   "execution_count": 4,
   "id": "d328f12e",
   "metadata": {},
   "outputs": [
    {
     "name": "stdout",
     "output_type": "stream",
     "text": [
      "<class 'pandas.core.frame.DataFrame'>\n",
      "RangeIndex: 100688 entries, 0 to 100687\n",
      "Data columns (total 7 columns):\n",
      " #   Column          Non-Null Count   Dtype \n",
      "---  ------          --------------   ----- \n",
      " 0   lake_ID         100688 non-null  object\n",
      " 1   species         100688 non-null  object\n",
      " 2   fish_count      100688 non-null  object\n",
      " 3   maximum_length  100688 non-null  int64 \n",
      " 4   minimum_length  100688 non-null  int64 \n",
      " 5   survey_ID       100688 non-null  object\n",
      " 6   survey_date     100688 non-null  object\n",
      "dtypes: int64(2), object(5)\n",
      "memory usage: 5.4+ MB\n"
     ]
    }
   ],
   "source": [
    "length.info()"
   ]
  },
  {
   "cell_type": "code",
   "execution_count": 6,
   "id": "dadfa364",
   "metadata": {
    "scrolled": true
   },
   "outputs": [],
   "source": [
    "length = length.drop_duplicates()\n",
    "length[\"survey_date\"] = survey_date_cleaner(length[\"survey_date\"])"
   ]
  },
  {
   "cell_type": "code",
   "execution_count": null,
   "id": "5c930f5d",
   "metadata": {},
   "outputs": [],
   "source": [
    "length[\"fish_count\"] = fish_length_cleaner(length[\"fish_count\"])"
   ]
  },
  {
   "cell_type": "code",
   "execution_count": 13,
   "id": "f4b16516",
   "metadata": {},
   "outputs": [
    {
     "data": {
      "text/html": [
       "<div>\n",
       "<style scoped>\n",
       "    .dataframe tbody tr th:only-of-type {\n",
       "        vertical-align: middle;\n",
       "    }\n",
       "\n",
       "    .dataframe tbody tr th {\n",
       "        vertical-align: top;\n",
       "    }\n",
       "\n",
       "    .dataframe thead th {\n",
       "        text-align: right;\n",
       "    }\n",
       "</style>\n",
       "<table border=\"1\" class=\"dataframe\">\n",
       "  <thead>\n",
       "    <tr style=\"text-align: right;\">\n",
       "      <th></th>\n",
       "      <th>lake_ID</th>\n",
       "      <th>species</th>\n",
       "      <th>fish_count</th>\n",
       "      <th>maximum_length</th>\n",
       "      <th>minimum_length</th>\n",
       "      <th>survey_ID</th>\n",
       "      <th>survey_date</th>\n",
       "    </tr>\n",
       "  </thead>\n",
       "  <tbody>\n",
       "    <tr>\n",
       "      <th>61824</th>\n",
       "      <td>62006700</td>\n",
       "      <td>BIB</td>\n",
       "      <td>[[0, 1]]</td>\n",
       "      <td>0</td>\n",
       "      <td>0</td>\n",
       "      <td>120236.0</td>\n",
       "      <td>1953-09-01</td>\n",
       "    </tr>\n",
       "    <tr>\n",
       "      <th>61823</th>\n",
       "      <td>62006700</td>\n",
       "      <td>GSF</td>\n",
       "      <td>[[0, 1]]</td>\n",
       "      <td>0</td>\n",
       "      <td>0</td>\n",
       "      <td>120236.0</td>\n",
       "      <td>1953-09-01</td>\n",
       "    </tr>\n",
       "    <tr>\n",
       "      <th>61825</th>\n",
       "      <td>62006700</td>\n",
       "      <td>WTS</td>\n",
       "      <td>[[0, 1]]</td>\n",
       "      <td>0</td>\n",
       "      <td>0</td>\n",
       "      <td>120236.0</td>\n",
       "      <td>1953-09-01</td>\n",
       "    </tr>\n",
       "    <tr>\n",
       "      <th>61822</th>\n",
       "      <td>62006700</td>\n",
       "      <td>BLG</td>\n",
       "      <td>[[0, 1]]</td>\n",
       "      <td>0</td>\n",
       "      <td>0</td>\n",
       "      <td>120236.0</td>\n",
       "      <td>1953-09-01</td>\n",
       "    </tr>\n",
       "    <tr>\n",
       "      <th>61820</th>\n",
       "      <td>62006700</td>\n",
       "      <td>CAP</td>\n",
       "      <td>[[0, 1]]</td>\n",
       "      <td>0</td>\n",
       "      <td>0</td>\n",
       "      <td>120236.0</td>\n",
       "      <td>1953-09-01</td>\n",
       "    </tr>\n",
       "    <tr>\n",
       "      <th>...</th>\n",
       "      <td>...</td>\n",
       "      <td>...</td>\n",
       "      <td>...</td>\n",
       "      <td>...</td>\n",
       "      <td>...</td>\n",
       "      <td>...</td>\n",
       "      <td>...</td>\n",
       "    </tr>\n",
       "    <tr>\n",
       "      <th>99471</th>\n",
       "      <td>73020002</td>\n",
       "      <td>WAE</td>\n",
       "      <td>[[6, 26], [7, 21], [8, 18]]</td>\n",
       "      <td>8</td>\n",
       "      <td>6</td>\n",
       "      <td>1.6382134353095e+16</td>\n",
       "      <td>2021-10-14</td>\n",
       "    </tr>\n",
       "    <tr>\n",
       "      <th>51578</th>\n",
       "      <td>51006300</td>\n",
       "      <td>WAE</td>\n",
       "      <td>[[10, 12], [6, 22], [7, 209], [8, 521], [9, 116]]</td>\n",
       "      <td>10</td>\n",
       "      <td>6</td>\n",
       "      <td>1.6312128751202e+16</td>\n",
       "      <td>2021-10-14</td>\n",
       "    </tr>\n",
       "    <tr>\n",
       "      <th>84215</th>\n",
       "      <td>03038100</td>\n",
       "      <td>LKS</td>\n",
       "      <td>[[29, 1], [30, 1], [32, 1], [33, 1], [35, 1], ...</td>\n",
       "      <td>50</td>\n",
       "      <td>29</td>\n",
       "      <td>1.8332130535835e+16</td>\n",
       "      <td>2021-10-18</td>\n",
       "    </tr>\n",
       "    <tr>\n",
       "      <th>40957</th>\n",
       "      <td>38005800</td>\n",
       "      <td>RBT</td>\n",
       "      <td>[[12, 5], [13, 5], [14, 1]]</td>\n",
       "      <td>14</td>\n",
       "      <td>12</td>\n",
       "      <td>1.763212912868e+16</td>\n",
       "      <td>2021-10-18</td>\n",
       "    </tr>\n",
       "    <tr>\n",
       "      <th>36869</th>\n",
       "      <td>34007900</td>\n",
       "      <td>WAE</td>\n",
       "      <td>[[6, 4], [7, 15], [8, 2]]</td>\n",
       "      <td>8</td>\n",
       "      <td>6</td>\n",
       "      <td>1.6592211044326016e+16</td>\n",
       "      <td>2021-10-18</td>\n",
       "    </tr>\n",
       "  </tbody>\n",
       "</table>\n",
       "<p>100688 rows × 7 columns</p>\n",
       "</div>"
      ],
      "text/plain": [
       "        lake_ID species                                         fish_count  \\\n",
       "61824  62006700     BIB                                           [[0, 1]]   \n",
       "61823  62006700     GSF                                           [[0, 1]]   \n",
       "61825  62006700     WTS                                           [[0, 1]]   \n",
       "61822  62006700     BLG                                           [[0, 1]]   \n",
       "61820  62006700     CAP                                           [[0, 1]]   \n",
       "...         ...     ...                                                ...   \n",
       "99471  73020002     WAE                        [[6, 26], [7, 21], [8, 18]]   \n",
       "51578  51006300     WAE  [[10, 12], [6, 22], [7, 209], [8, 521], [9, 116]]   \n",
       "84215  03038100     LKS  [[29, 1], [30, 1], [32, 1], [33, 1], [35, 1], ...   \n",
       "40957  38005800     RBT                        [[12, 5], [13, 5], [14, 1]]   \n",
       "36869  34007900     WAE                          [[6, 4], [7, 15], [8, 2]]   \n",
       "\n",
       "       maximum_length  minimum_length               survey_ID survey_date  \n",
       "61824               0               0                120236.0  1953-09-01  \n",
       "61823               0               0                120236.0  1953-09-01  \n",
       "61825               0               0                120236.0  1953-09-01  \n",
       "61822               0               0                120236.0  1953-09-01  \n",
       "61820               0               0                120236.0  1953-09-01  \n",
       "...               ...             ...                     ...         ...  \n",
       "99471               8               6     1.6382134353095e+16  2021-10-14  \n",
       "51578              10               6     1.6312128751202e+16  2021-10-14  \n",
       "84215              50              29     1.8332130535835e+16  2021-10-18  \n",
       "40957              14              12      1.763212912868e+16  2021-10-18  \n",
       "36869               8               6  1.6592211044326016e+16  2021-10-18  \n",
       "\n",
       "[100688 rows x 7 columns]"
      ]
     },
     "execution_count": 13,
     "metadata": {},
     "output_type": "execute_result"
    }
   ],
   "source": [
    "length.sort_values(\"survey_date\")"
   ]
  },
  {
   "cell_type": "code",
   "execution_count": 9,
   "id": "fd6c39f0",
   "metadata": {},
   "outputs": [
    {
     "name": "stdout",
     "output_type": "stream",
     "text": [
      "<class 'pandas.core.frame.DataFrame'>\n",
      "Int64Index: 100688 entries, 0 to 100687\n",
      "Data columns (total 7 columns):\n",
      " #   Column          Non-Null Count   Dtype         \n",
      "---  ------          --------------   -----         \n",
      " 0   lake_ID         100688 non-null  object        \n",
      " 1   species         100688 non-null  object        \n",
      " 2   fish_count      100688 non-null  object        \n",
      " 3   maximum_length  100688 non-null  int64         \n",
      " 4   minimum_length  100688 non-null  int64         \n",
      " 5   survey_ID       100688 non-null  object        \n",
      " 6   survey_date     100688 non-null  datetime64[ns]\n",
      "dtypes: datetime64[ns](1), int64(2), object(4)\n",
      "memory usage: 8.2+ MB\n"
     ]
    }
   ],
   "source": [
    "length.info()"
   ]
  },
  {
   "cell_type": "code",
   "execution_count": null,
   "id": "1cf4c6fb",
   "metadata": {},
   "outputs": [],
   "source": [
    "catch.info()"
   ]
  },
  {
   "cell_type": "code",
   "execution_count": null,
   "id": "fadd8e18",
   "metadata": {},
   "outputs": [],
   "source": [
    "catch = catch.drop_duplicates()\n",
    "catch[\"CPUE\"] = cpue_cleaner(catch[\"CPUE\"])\n",
    "catch[\"survey_date\"] = survey_date_cleaner(catch[\"survey_date\"])\n",
    "catch[\"count_lower_quartile\"] = lower_quartile_cleaner(catch[\"quartileCount\"])\n",
    "catch[\"count_upper_quartile\"] = upper_quartile_cleaner(catch[\"quartileCount\"])\n",
    "catch[\"weight_lower_quartile\"] = lower_quartile_cleaner(catch[\"quartileWeight\"])\n",
    "catch[\"weight_upper_quartile\"] = upper_quartile_cleaner(catch[\"quartileWeight\"])\n",
    "catch[\"gearCount\"] = catch[\"gearCount\"].astype(\"int\")\n",
    "catch = catch.drop(columns=[\"quartileCount\", \"quartileWeight\"])"
   ]
  },
  {
   "cell_type": "code",
   "execution_count": null,
   "id": "b1e0c162",
   "metadata": {},
   "outputs": [],
   "source": [
    "catch.head()"
   ]
  },
  {
   "cell_type": "code",
   "execution_count": null,
   "id": "35d730c1",
   "metadata": {},
   "outputs": [],
   "source": [
    "catch.info()"
   ]
  },
  {
   "cell_type": "code",
   "execution_count": null,
   "id": "2d4a9959",
   "metadata": {},
   "outputs": [],
   "source": [
    "lake.to_csv(\"Resources/lake_info/lake_information_clean.csv\", index=False)\n",
    "length.to_csv(\"Resources/fish_length_info/fish_length_clean.csv\", index=False)\n",
    "catch.to_csv(\"Resources/fish_catch_info/fish_catch_clean.csv\", index=False)\n",
    "was.to_csv(\"Resources/was_info/water_access_information_clean.csv\", index=False)"
   ]
  },
  {
   "cell_type": "code",
   "execution_count": null,
   "id": "dd7c105f",
   "metadata": {},
   "outputs": [],
   "source": []
  }
 ],
 "metadata": {
  "kernelspec": {
   "display_name": "Python 3 (ipykernel)",
   "language": "python",
   "name": "python3"
  },
  "language_info": {
   "codemirror_mode": {
    "name": "ipython",
    "version": 3
   },
   "file_extension": ".py",
   "mimetype": "text/x-python",
   "name": "python",
   "nbconvert_exporter": "python",
   "pygments_lexer": "ipython3",
   "version": "3.9.13"
  }
 },
 "nbformat": 4,
 "nbformat_minor": 5
}
