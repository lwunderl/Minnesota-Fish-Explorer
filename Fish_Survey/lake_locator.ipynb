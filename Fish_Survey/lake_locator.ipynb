{
 "cells": [
  {
   "cell_type": "code",
   "execution_count": 71,
   "id": "ff94160b",
   "metadata": {},
   "outputs": [],
   "source": [
    "import requests\n",
    "import json\n",
    "from config import key\n",
    "import pandas as pd\n",
    "import numpy as np"
   ]
  },
  {
   "cell_type": "code",
   "execution_count": 72,
   "id": "211d376d",
   "metadata": {},
   "outputs": [],
   "source": [
    "lakes = pd.read_csv(\"Resources/lake_info/lake_information_clean.csv\")"
   ]
  },
  {
   "cell_type": "code",
   "execution_count": 73,
   "id": "56fa46b4",
   "metadata": {},
   "outputs": [],
   "source": [
    "city = \"New Ulm\"\n",
    "params = {\n",
    "    \"city\": city,\n",
    "    \"state\": \"MN\",\n",
    "    \"country\": \"United States of America\",\n",
    "    \"apiKey\": key\n",
    "}"
   ]
  },
  {
   "cell_type": "code",
   "execution_count": 74,
   "id": "b84ba044",
   "metadata": {},
   "outputs": [],
   "source": [
    "base_url = \"https://api.geoapify.com/v1/geocode/search\""
   ]
  },
  {
   "cell_type": "code",
   "execution_count": 75,
   "id": "678f7a31",
   "metadata": {},
   "outputs": [],
   "source": [
    "response = requests.get(base_url, params=params).json()"
   ]
  },
  {
   "cell_type": "code",
   "execution_count": 76,
   "id": "d1fa0b5a",
   "metadata": {
    "scrolled": true
   },
   "outputs": [],
   "source": [
    "lon = response[\"features\"][0][\"geometry\"][\"coordinates\"][0]"
   ]
  },
  {
   "cell_type": "code",
   "execution_count": 77,
   "id": "3191bd8b",
   "metadata": {},
   "outputs": [],
   "source": [
    "lat = response[\"features\"][0][\"geometry\"][\"coordinates\"][1]"
   ]
  },
  {
   "cell_type": "code",
   "execution_count": 78,
   "id": "4c5ee380",
   "metadata": {},
   "outputs": [],
   "source": [
    "def get_radians(coordinate):\n",
    "    radian = coordinate*np.pi/180\n",
    "    return radian\n",
    "\n",
    "def get_distance(lat1, lon1, lat2, lon2):\n",
    "    distance = np.arccos(np.sin(get_radians(lat1))*np.sin(get_radians(lat2)) + \\\n",
    "                         np.cos(get_radians(lat1))*np.cos(get_radians(lat2)) * \\\n",
    "                         np.cos(get_radians(lon2)-get_radians(lon1)))*3958.8\n",
    "    return distance"
   ]
  },
  {
   "cell_type": "code",
   "execution_count": 81,
   "id": "ba27a6ed",
   "metadata": {},
   "outputs": [],
   "source": [
    "travel = 5\n",
    "closeby = lakes.loc[get_distance(lat, lon, lakes[\"Latitude\"], lakes[\"Longitude\"]) < travel]"
   ]
  },
  {
   "cell_type": "code",
   "execution_count": 82,
   "id": "867d5dc6",
   "metadata": {},
   "outputs": [
    {
     "data": {
      "text/html": [
       "<div>\n",
       "<style scoped>\n",
       "    .dataframe tbody tr th:only-of-type {\n",
       "        vertical-align: middle;\n",
       "    }\n",
       "\n",
       "    .dataframe tbody tr th {\n",
       "        vertical-align: top;\n",
       "    }\n",
       "\n",
       "    .dataframe thead th {\n",
       "        text-align: right;\n",
       "    }\n",
       "</style>\n",
       "<table border=\"1\" class=\"dataframe\">\n",
       "  <thead>\n",
       "    <tr style=\"text-align: right;\">\n",
       "      <th></th>\n",
       "      <th>Lake ID</th>\n",
       "      <th>Lake Name</th>\n",
       "      <th>Lake County</th>\n",
       "      <th>Nearest Town</th>\n",
       "      <th>Lake Area</th>\n",
       "      <th>Littoral Area</th>\n",
       "      <th>Lake Depth</th>\n",
       "      <th>Mean Depth</th>\n",
       "      <th>Water Access Sites</th>\n",
       "      <th>Longitude</th>\n",
       "      <th>Latitude</th>\n",
       "    </tr>\n",
       "  </thead>\n",
       "  <tbody>\n",
       "    <tr>\n",
       "      <th>626</th>\n",
       "      <td>8001100</td>\n",
       "      <td>Clear</td>\n",
       "      <td>Brown</td>\n",
       "      <td>New Ulm</td>\n",
       "      <td>251.78</td>\n",
       "      <td>251.78</td>\n",
       "      <td>8.0</td>\n",
       "      <td>5.0</td>\n",
       "      <td>['was01420']</td>\n",
       "      <td>-94.520594</td>\n",
       "      <td>44.259424</td>\n",
       "    </tr>\n",
       "    <tr>\n",
       "      <th>632</th>\n",
       "      <td>8001900</td>\n",
       "      <td>Rolloff Slough</td>\n",
       "      <td>Brown</td>\n",
       "      <td>Essig</td>\n",
       "      <td>0.00</td>\n",
       "      <td>0.00</td>\n",
       "      <td>0.0</td>\n",
       "      <td>0.0</td>\n",
       "      <td>[]</td>\n",
       "      <td>-94.557510</td>\n",
       "      <td>44.328364</td>\n",
       "    </tr>\n",
       "  </tbody>\n",
       "</table>\n",
       "</div>"
      ],
      "text/plain": [
       "     Lake ID       Lake Name Lake County Nearest Town  Lake Area  \\\n",
       "626  8001100           Clear       Brown      New Ulm     251.78   \n",
       "632  8001900  Rolloff Slough       Brown        Essig       0.00   \n",
       "\n",
       "     Littoral Area  Lake Depth  Mean Depth Water Access Sites  Longitude  \\\n",
       "626         251.78         8.0         5.0       ['was01420'] -94.520594   \n",
       "632           0.00         0.0         0.0                 [] -94.557510   \n",
       "\n",
       "      Latitude  \n",
       "626  44.259424  \n",
       "632  44.328364  "
      ]
     },
     "execution_count": 82,
     "metadata": {},
     "output_type": "execute_result"
    }
   ],
   "source": [
    "closeby"
   ]
  },
  {
   "cell_type": "code",
   "execution_count": null,
   "id": "70677cba",
   "metadata": {},
   "outputs": [],
   "source": []
  }
 ],
 "metadata": {
  "kernelspec": {
   "display_name": "Python 3 (ipykernel)",
   "language": "python",
   "name": "python3"
  },
  "language_info": {
   "codemirror_mode": {
    "name": "ipython",
    "version": 3
   },
   "file_extension": ".py",
   "mimetype": "text/x-python",
   "name": "python",
   "nbconvert_exporter": "python",
   "pygments_lexer": "ipython3",
   "version": "3.9.13"
  }
 },
 "nbformat": 4,
 "nbformat_minor": 5
}
