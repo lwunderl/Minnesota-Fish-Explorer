{
 "cells": [
  {
   "cell_type": "code",
   "execution_count": 1,
   "id": "f6a1d742",
   "metadata": {},
   "outputs": [],
   "source": [
    "import pandas as pd\n",
    "import json\n",
    "import re\n",
    "import numpy as np"
   ]
  },
  {
   "cell_type": "code",
   "execution_count": 2,
   "id": "3d55f6f4",
   "metadata": {},
   "outputs": [
    {
     "ename": "FileNotFoundError",
     "evalue": "[Errno 2] No such file or directory: 'lake_info/lake_information.csv'",
     "output_type": "error",
     "traceback": [
      "\u001b[1;31m---------------------------------------------------------------------------\u001b[0m",
      "\u001b[1;31mFileNotFoundError\u001b[0m                         Traceback (most recent call last)",
      "Cell \u001b[1;32mIn[2], line 1\u001b[0m\n\u001b[1;32m----> 1\u001b[0m lake \u001b[38;5;241m=\u001b[39m \u001b[43mpd\u001b[49m\u001b[38;5;241;43m.\u001b[39;49m\u001b[43mread_csv\u001b[49m\u001b[43m(\u001b[49m\u001b[38;5;124;43m\"\u001b[39;49m\u001b[38;5;124;43mlake_info/lake_information.csv\u001b[39;49m\u001b[38;5;124;43m\"\u001b[39;49m\u001b[43m,\u001b[49m\u001b[43m \u001b[49m\u001b[43mconverters\u001b[49m\u001b[38;5;241;43m=\u001b[39;49m\u001b[43m{\u001b[49m\u001b[38;5;124;43m\"\u001b[39;49m\u001b[38;5;124;43mlake_id\u001b[39;49m\u001b[38;5;124;43m\"\u001b[39;49m\u001b[43m:\u001b[49m\u001b[43m \u001b[49m\u001b[38;5;28;43mstr\u001b[39;49m\u001b[43m}\u001b[49m\u001b[43m)\u001b[49m\n\u001b[0;32m      2\u001b[0m length \u001b[38;5;241m=\u001b[39m pd\u001b[38;5;241m.\u001b[39mread_csv(\u001b[38;5;124m\"\u001b[39m\u001b[38;5;124mfish_length_info/fish_length.csv\u001b[39m\u001b[38;5;124m\"\u001b[39m, converters\u001b[38;5;241m=\u001b[39m{\u001b[38;5;124m\"\u001b[39m\u001b[38;5;124mlake_id\u001b[39m\u001b[38;5;124m\"\u001b[39m: \u001b[38;5;28mstr\u001b[39m, \u001b[38;5;124m\"\u001b[39m\u001b[38;5;124msurvey_id\u001b[39m\u001b[38;5;124m\"\u001b[39m: \u001b[38;5;28mstr\u001b[39m})\n\u001b[0;32m      3\u001b[0m cpue \u001b[38;5;241m=\u001b[39m pd\u001b[38;5;241m.\u001b[39mread_csv(\u001b[38;5;124m\"\u001b[39m\u001b[38;5;124mfish_cpue_info/fish_cpue.csv\u001b[39m\u001b[38;5;124m\"\u001b[39m, converters\u001b[38;5;241m=\u001b[39m{\u001b[38;5;124m\"\u001b[39m\u001b[38;5;124mlake_id\u001b[39m\u001b[38;5;124m\"\u001b[39m: \u001b[38;5;28mstr\u001b[39m, \u001b[38;5;124m\"\u001b[39m\u001b[38;5;124msurvey_id\u001b[39m\u001b[38;5;124m\"\u001b[39m: \u001b[38;5;28mstr\u001b[39m})\n",
      "File \u001b[1;32m~\\anaconda3\\lib\\site-packages\\pandas\\util\\_decorators.py:311\u001b[0m, in \u001b[0;36mdeprecate_nonkeyword_arguments.<locals>.decorate.<locals>.wrapper\u001b[1;34m(*args, **kwargs)\u001b[0m\n\u001b[0;32m    305\u001b[0m \u001b[38;5;28;01mif\u001b[39;00m \u001b[38;5;28mlen\u001b[39m(args) \u001b[38;5;241m>\u001b[39m num_allow_args:\n\u001b[0;32m    306\u001b[0m     warnings\u001b[38;5;241m.\u001b[39mwarn(\n\u001b[0;32m    307\u001b[0m         msg\u001b[38;5;241m.\u001b[39mformat(arguments\u001b[38;5;241m=\u001b[39marguments),\n\u001b[0;32m    308\u001b[0m         \u001b[38;5;167;01mFutureWarning\u001b[39;00m,\n\u001b[0;32m    309\u001b[0m         stacklevel\u001b[38;5;241m=\u001b[39mstacklevel,\n\u001b[0;32m    310\u001b[0m     )\n\u001b[1;32m--> 311\u001b[0m \u001b[38;5;28;01mreturn\u001b[39;00m func(\u001b[38;5;241m*\u001b[39margs, \u001b[38;5;241m*\u001b[39m\u001b[38;5;241m*\u001b[39mkwargs)\n",
      "File \u001b[1;32m~\\anaconda3\\lib\\site-packages\\pandas\\io\\parsers\\readers.py:678\u001b[0m, in \u001b[0;36mread_csv\u001b[1;34m(filepath_or_buffer, sep, delimiter, header, names, index_col, usecols, squeeze, prefix, mangle_dupe_cols, dtype, engine, converters, true_values, false_values, skipinitialspace, skiprows, skipfooter, nrows, na_values, keep_default_na, na_filter, verbose, skip_blank_lines, parse_dates, infer_datetime_format, keep_date_col, date_parser, dayfirst, cache_dates, iterator, chunksize, compression, thousands, decimal, lineterminator, quotechar, quoting, doublequote, escapechar, comment, encoding, encoding_errors, dialect, error_bad_lines, warn_bad_lines, on_bad_lines, delim_whitespace, low_memory, memory_map, float_precision, storage_options)\u001b[0m\n\u001b[0;32m    663\u001b[0m kwds_defaults \u001b[38;5;241m=\u001b[39m _refine_defaults_read(\n\u001b[0;32m    664\u001b[0m     dialect,\n\u001b[0;32m    665\u001b[0m     delimiter,\n\u001b[1;32m   (...)\u001b[0m\n\u001b[0;32m    674\u001b[0m     defaults\u001b[38;5;241m=\u001b[39m{\u001b[38;5;124m\"\u001b[39m\u001b[38;5;124mdelimiter\u001b[39m\u001b[38;5;124m\"\u001b[39m: \u001b[38;5;124m\"\u001b[39m\u001b[38;5;124m,\u001b[39m\u001b[38;5;124m\"\u001b[39m},\n\u001b[0;32m    675\u001b[0m )\n\u001b[0;32m    676\u001b[0m kwds\u001b[38;5;241m.\u001b[39mupdate(kwds_defaults)\n\u001b[1;32m--> 678\u001b[0m \u001b[38;5;28;01mreturn\u001b[39;00m \u001b[43m_read\u001b[49m\u001b[43m(\u001b[49m\u001b[43mfilepath_or_buffer\u001b[49m\u001b[43m,\u001b[49m\u001b[43m \u001b[49m\u001b[43mkwds\u001b[49m\u001b[43m)\u001b[49m\n",
      "File \u001b[1;32m~\\anaconda3\\lib\\site-packages\\pandas\\io\\parsers\\readers.py:575\u001b[0m, in \u001b[0;36m_read\u001b[1;34m(filepath_or_buffer, kwds)\u001b[0m\n\u001b[0;32m    572\u001b[0m _validate_names(kwds\u001b[38;5;241m.\u001b[39mget(\u001b[38;5;124m\"\u001b[39m\u001b[38;5;124mnames\u001b[39m\u001b[38;5;124m\"\u001b[39m, \u001b[38;5;28;01mNone\u001b[39;00m))\n\u001b[0;32m    574\u001b[0m \u001b[38;5;66;03m# Create the parser.\u001b[39;00m\n\u001b[1;32m--> 575\u001b[0m parser \u001b[38;5;241m=\u001b[39m TextFileReader(filepath_or_buffer, \u001b[38;5;241m*\u001b[39m\u001b[38;5;241m*\u001b[39mkwds)\n\u001b[0;32m    577\u001b[0m \u001b[38;5;28;01mif\u001b[39;00m chunksize \u001b[38;5;129;01mor\u001b[39;00m iterator:\n\u001b[0;32m    578\u001b[0m     \u001b[38;5;28;01mreturn\u001b[39;00m parser\n",
      "File \u001b[1;32m~\\anaconda3\\lib\\site-packages\\pandas\\io\\parsers\\readers.py:932\u001b[0m, in \u001b[0;36mTextFileReader.__init__\u001b[1;34m(self, f, engine, **kwds)\u001b[0m\n\u001b[0;32m    929\u001b[0m     \u001b[38;5;28mself\u001b[39m\u001b[38;5;241m.\u001b[39moptions[\u001b[38;5;124m\"\u001b[39m\u001b[38;5;124mhas_index_names\u001b[39m\u001b[38;5;124m\"\u001b[39m] \u001b[38;5;241m=\u001b[39m kwds[\u001b[38;5;124m\"\u001b[39m\u001b[38;5;124mhas_index_names\u001b[39m\u001b[38;5;124m\"\u001b[39m]\n\u001b[0;32m    931\u001b[0m \u001b[38;5;28mself\u001b[39m\u001b[38;5;241m.\u001b[39mhandles: IOHandles \u001b[38;5;241m|\u001b[39m \u001b[38;5;28;01mNone\u001b[39;00m \u001b[38;5;241m=\u001b[39m \u001b[38;5;28;01mNone\u001b[39;00m\n\u001b[1;32m--> 932\u001b[0m \u001b[38;5;28mself\u001b[39m\u001b[38;5;241m.\u001b[39m_engine \u001b[38;5;241m=\u001b[39m \u001b[38;5;28;43mself\u001b[39;49m\u001b[38;5;241;43m.\u001b[39;49m\u001b[43m_make_engine\u001b[49m\u001b[43m(\u001b[49m\u001b[43mf\u001b[49m\u001b[43m,\u001b[49m\u001b[43m \u001b[49m\u001b[38;5;28;43mself\u001b[39;49m\u001b[38;5;241;43m.\u001b[39;49m\u001b[43mengine\u001b[49m\u001b[43m)\u001b[49m\n",
      "File \u001b[1;32m~\\anaconda3\\lib\\site-packages\\pandas\\io\\parsers\\readers.py:1216\u001b[0m, in \u001b[0;36mTextFileReader._make_engine\u001b[1;34m(self, f, engine)\u001b[0m\n\u001b[0;32m   1212\u001b[0m     mode \u001b[38;5;241m=\u001b[39m \u001b[38;5;124m\"\u001b[39m\u001b[38;5;124mrb\u001b[39m\u001b[38;5;124m\"\u001b[39m\n\u001b[0;32m   1213\u001b[0m \u001b[38;5;66;03m# error: No overload variant of \"get_handle\" matches argument types\u001b[39;00m\n\u001b[0;32m   1214\u001b[0m \u001b[38;5;66;03m# \"Union[str, PathLike[str], ReadCsvBuffer[bytes], ReadCsvBuffer[str]]\"\u001b[39;00m\n\u001b[0;32m   1215\u001b[0m \u001b[38;5;66;03m# , \"str\", \"bool\", \"Any\", \"Any\", \"Any\", \"Any\", \"Any\"\u001b[39;00m\n\u001b[1;32m-> 1216\u001b[0m \u001b[38;5;28mself\u001b[39m\u001b[38;5;241m.\u001b[39mhandles \u001b[38;5;241m=\u001b[39m \u001b[43mget_handle\u001b[49m\u001b[43m(\u001b[49m\u001b[43m  \u001b[49m\u001b[38;5;66;43;03m# type: ignore[call-overload]\u001b[39;49;00m\n\u001b[0;32m   1217\u001b[0m \u001b[43m    \u001b[49m\u001b[43mf\u001b[49m\u001b[43m,\u001b[49m\n\u001b[0;32m   1218\u001b[0m \u001b[43m    \u001b[49m\u001b[43mmode\u001b[49m\u001b[43m,\u001b[49m\n\u001b[0;32m   1219\u001b[0m \u001b[43m    \u001b[49m\u001b[43mencoding\u001b[49m\u001b[38;5;241;43m=\u001b[39;49m\u001b[38;5;28;43mself\u001b[39;49m\u001b[38;5;241;43m.\u001b[39;49m\u001b[43moptions\u001b[49m\u001b[38;5;241;43m.\u001b[39;49m\u001b[43mget\u001b[49m\u001b[43m(\u001b[49m\u001b[38;5;124;43m\"\u001b[39;49m\u001b[38;5;124;43mencoding\u001b[39;49m\u001b[38;5;124;43m\"\u001b[39;49m\u001b[43m,\u001b[49m\u001b[43m \u001b[49m\u001b[38;5;28;43;01mNone\u001b[39;49;00m\u001b[43m)\u001b[49m\u001b[43m,\u001b[49m\n\u001b[0;32m   1220\u001b[0m \u001b[43m    \u001b[49m\u001b[43mcompression\u001b[49m\u001b[38;5;241;43m=\u001b[39;49m\u001b[38;5;28;43mself\u001b[39;49m\u001b[38;5;241;43m.\u001b[39;49m\u001b[43moptions\u001b[49m\u001b[38;5;241;43m.\u001b[39;49m\u001b[43mget\u001b[49m\u001b[43m(\u001b[49m\u001b[38;5;124;43m\"\u001b[39;49m\u001b[38;5;124;43mcompression\u001b[39;49m\u001b[38;5;124;43m\"\u001b[39;49m\u001b[43m,\u001b[49m\u001b[43m \u001b[49m\u001b[38;5;28;43;01mNone\u001b[39;49;00m\u001b[43m)\u001b[49m\u001b[43m,\u001b[49m\n\u001b[0;32m   1221\u001b[0m \u001b[43m    \u001b[49m\u001b[43mmemory_map\u001b[49m\u001b[38;5;241;43m=\u001b[39;49m\u001b[38;5;28;43mself\u001b[39;49m\u001b[38;5;241;43m.\u001b[39;49m\u001b[43moptions\u001b[49m\u001b[38;5;241;43m.\u001b[39;49m\u001b[43mget\u001b[49m\u001b[43m(\u001b[49m\u001b[38;5;124;43m\"\u001b[39;49m\u001b[38;5;124;43mmemory_map\u001b[39;49m\u001b[38;5;124;43m\"\u001b[39;49m\u001b[43m,\u001b[49m\u001b[43m \u001b[49m\u001b[38;5;28;43;01mFalse\u001b[39;49;00m\u001b[43m)\u001b[49m\u001b[43m,\u001b[49m\n\u001b[0;32m   1222\u001b[0m \u001b[43m    \u001b[49m\u001b[43mis_text\u001b[49m\u001b[38;5;241;43m=\u001b[39;49m\u001b[43mis_text\u001b[49m\u001b[43m,\u001b[49m\n\u001b[0;32m   1223\u001b[0m \u001b[43m    \u001b[49m\u001b[43merrors\u001b[49m\u001b[38;5;241;43m=\u001b[39;49m\u001b[38;5;28;43mself\u001b[39;49m\u001b[38;5;241;43m.\u001b[39;49m\u001b[43moptions\u001b[49m\u001b[38;5;241;43m.\u001b[39;49m\u001b[43mget\u001b[49m\u001b[43m(\u001b[49m\u001b[38;5;124;43m\"\u001b[39;49m\u001b[38;5;124;43mencoding_errors\u001b[39;49m\u001b[38;5;124;43m\"\u001b[39;49m\u001b[43m,\u001b[49m\u001b[43m \u001b[49m\u001b[38;5;124;43m\"\u001b[39;49m\u001b[38;5;124;43mstrict\u001b[39;49m\u001b[38;5;124;43m\"\u001b[39;49m\u001b[43m)\u001b[49m\u001b[43m,\u001b[49m\n\u001b[0;32m   1224\u001b[0m \u001b[43m    \u001b[49m\u001b[43mstorage_options\u001b[49m\u001b[38;5;241;43m=\u001b[39;49m\u001b[38;5;28;43mself\u001b[39;49m\u001b[38;5;241;43m.\u001b[39;49m\u001b[43moptions\u001b[49m\u001b[38;5;241;43m.\u001b[39;49m\u001b[43mget\u001b[49m\u001b[43m(\u001b[49m\u001b[38;5;124;43m\"\u001b[39;49m\u001b[38;5;124;43mstorage_options\u001b[39;49m\u001b[38;5;124;43m\"\u001b[39;49m\u001b[43m,\u001b[49m\u001b[43m \u001b[49m\u001b[38;5;28;43;01mNone\u001b[39;49;00m\u001b[43m)\u001b[49m\u001b[43m,\u001b[49m\n\u001b[0;32m   1225\u001b[0m \u001b[43m\u001b[49m\u001b[43m)\u001b[49m\n\u001b[0;32m   1226\u001b[0m \u001b[38;5;28;01massert\u001b[39;00m \u001b[38;5;28mself\u001b[39m\u001b[38;5;241m.\u001b[39mhandles \u001b[38;5;129;01mis\u001b[39;00m \u001b[38;5;129;01mnot\u001b[39;00m \u001b[38;5;28;01mNone\u001b[39;00m\n\u001b[0;32m   1227\u001b[0m f \u001b[38;5;241m=\u001b[39m \u001b[38;5;28mself\u001b[39m\u001b[38;5;241m.\u001b[39mhandles\u001b[38;5;241m.\u001b[39mhandle\n",
      "File \u001b[1;32m~\\anaconda3\\lib\\site-packages\\pandas\\io\\common.py:786\u001b[0m, in \u001b[0;36mget_handle\u001b[1;34m(path_or_buf, mode, encoding, compression, memory_map, is_text, errors, storage_options)\u001b[0m\n\u001b[0;32m    781\u001b[0m \u001b[38;5;28;01melif\u001b[39;00m \u001b[38;5;28misinstance\u001b[39m(handle, \u001b[38;5;28mstr\u001b[39m):\n\u001b[0;32m    782\u001b[0m     \u001b[38;5;66;03m# Check whether the filename is to be opened in binary mode.\u001b[39;00m\n\u001b[0;32m    783\u001b[0m     \u001b[38;5;66;03m# Binary mode does not support 'encoding' and 'newline'.\u001b[39;00m\n\u001b[0;32m    784\u001b[0m     \u001b[38;5;28;01mif\u001b[39;00m ioargs\u001b[38;5;241m.\u001b[39mencoding \u001b[38;5;129;01mand\u001b[39;00m \u001b[38;5;124m\"\u001b[39m\u001b[38;5;124mb\u001b[39m\u001b[38;5;124m\"\u001b[39m \u001b[38;5;129;01mnot\u001b[39;00m \u001b[38;5;129;01min\u001b[39;00m ioargs\u001b[38;5;241m.\u001b[39mmode:\n\u001b[0;32m    785\u001b[0m         \u001b[38;5;66;03m# Encoding\u001b[39;00m\n\u001b[1;32m--> 786\u001b[0m         handle \u001b[38;5;241m=\u001b[39m \u001b[38;5;28;43mopen\u001b[39;49m\u001b[43m(\u001b[49m\n\u001b[0;32m    787\u001b[0m \u001b[43m            \u001b[49m\u001b[43mhandle\u001b[49m\u001b[43m,\u001b[49m\n\u001b[0;32m    788\u001b[0m \u001b[43m            \u001b[49m\u001b[43mioargs\u001b[49m\u001b[38;5;241;43m.\u001b[39;49m\u001b[43mmode\u001b[49m\u001b[43m,\u001b[49m\n\u001b[0;32m    789\u001b[0m \u001b[43m            \u001b[49m\u001b[43mencoding\u001b[49m\u001b[38;5;241;43m=\u001b[39;49m\u001b[43mioargs\u001b[49m\u001b[38;5;241;43m.\u001b[39;49m\u001b[43mencoding\u001b[49m\u001b[43m,\u001b[49m\n\u001b[0;32m    790\u001b[0m \u001b[43m            \u001b[49m\u001b[43merrors\u001b[49m\u001b[38;5;241;43m=\u001b[39;49m\u001b[43merrors\u001b[49m\u001b[43m,\u001b[49m\n\u001b[0;32m    791\u001b[0m \u001b[43m            \u001b[49m\u001b[43mnewline\u001b[49m\u001b[38;5;241;43m=\u001b[39;49m\u001b[38;5;124;43m\"\u001b[39;49m\u001b[38;5;124;43m\"\u001b[39;49m\u001b[43m,\u001b[49m\n\u001b[0;32m    792\u001b[0m \u001b[43m        \u001b[49m\u001b[43m)\u001b[49m\n\u001b[0;32m    793\u001b[0m     \u001b[38;5;28;01melse\u001b[39;00m:\n\u001b[0;32m    794\u001b[0m         \u001b[38;5;66;03m# Binary mode\u001b[39;00m\n\u001b[0;32m    795\u001b[0m         handle \u001b[38;5;241m=\u001b[39m \u001b[38;5;28mopen\u001b[39m(handle, ioargs\u001b[38;5;241m.\u001b[39mmode)\n",
      "\u001b[1;31mFileNotFoundError\u001b[0m: [Errno 2] No such file or directory: 'lake_info/lake_information.csv'"
     ]
    }
   ],
   "source": [
    "lake = pd.read_csv(\"lake_info/lake_information.csv\", converters={\"lake_id\": str})\n",
    "length = pd.read_csv(\"fish_length_info/fish_length.csv\", converters={\"lake_id\": str, \"survey_id\": str})\n",
    "cpue = pd.read_csv(\"fish_cpue_info/fish_cpue.csv\", converters={\"lake_id\": str, \"survey_id\": str})\n",
    "was = pd.read_csv(\"was_info/water_access_information.csv\")"
   ]
  },
  {
   "cell_type": "code",
   "execution_count": null,
   "id": "ab54919f",
   "metadata": {},
   "outputs": [],
   "source": [
    "#add methods\n",
    "#sort and format year survey data then convert to datetime\n",
    "def survey_date_cleaner(dfseries):\n",
    "    dfseries = dfseries.copy()\n",
    "    for _ in range(len(dfseries)):\n",
    "        dfseries[_] = dfseries[_].replace(\"/\",\"-\")\n",
    "        if matches := re.search(r\"^(\\d?\\d{1})-(\\d?\\d{1})-(\\d{4})$\", dfseries[_], re.IGNORECASE):\n",
    "            dfseries[_] = f\"{matches.group(3)}-{matches.group(2)}-{matches.group(1)}\"\n",
    "        try:\n",
    "            dfseries[_] = pd.to_datetime(dfseries[_],format=\"%Y-%m-%d\")\n",
    "        except ValueError:\n",
    "            if matches := re.search(r\"^(\\d{4})-(\\d?\\d{1})-(\\d?\\d{1})$\", dfseries[_], re.IGNORECASE):\n",
    "                dfseries[_] = f\"{matches.group(1)}-{matches.group(3)}-{matches.group(2)}\"\n",
    "            dfseries[_] = pd.to_datetime(dfseries[_],format=\"%Y-%m-%d\")\n",
    "    dfseries = pd.to_datetime(dfseries,format=\"%Y-%m-%d\")\n",
    "    return dfseries\n",
    "\n",
    "#input CPUE column data series\n",
    "#drop strings from cpue data series and convert to int(found some \"? marks\")\n",
    "def cpue_cleaner(dfseries):\n",
    "    i=0\n",
    "    for _ in dfseries:\n",
    "        try:\n",
    "            np.float64(_)\n",
    "            i = i + 1\n",
    "        except ValueError:\n",
    "            print(i, _,\"valueerror\")\n",
    "            dfseries = dfseries.drop([i])\n",
    "            i = i + 1\n",
    "    dfseries = pd.to_numeric(dfseries)\n",
    "    return dfseries\n",
    "\n",
    "#input fish_count column data series\n",
    "#returns fish_count column in dataframe as a list of individual integer measurements e.g. [0,0,1,1,1,2,3,3,4]\n",
    "def fish_length_cleaner(dfseries):\n",
    "    fish_lengths = []\n",
    "    #scrub each row string and convert to list of lengths sampled\n",
    "    for row in dfseries:\n",
    "        #clean up string of list syntax\n",
    "        sample = row.replace(\"]\",\"\").replace(\"[\",\"\").replace(\" \",\"\").split(\",\")\n",
    "        #breakdown string into list of lengths sampled for row\n",
    "        sample_lengths = []\n",
    "        for n in range(len(sample)):\n",
    "            if n % 2 == 1:\n",
    "                fishlength = int(sample[n-1])\n",
    "                fishcount = int(sample[n])\n",
    "                for c in range(fishcount):\n",
    "                    sample_lengths.append(fishlength)\n",
    "        fish_lengths.append(sample_lengths)\n",
    "    return fish_lengths\n",
    "\n",
    "#input string data series with rows of \"[1,1,2,2,2,3,4,7,7,7]\"\n",
    "#returns fish_count series column as a list of float averages e.g. [5.1, 4.6, 8.8]\n",
    "def fish_length_averager(dfseries):\n",
    "    fish_length_averages = []\n",
    "    for row in dfseries:\n",
    "        sample = [int(x) for x in row if x != 0]\n",
    "        if bool(sample) == True:\n",
    "            fish_length_averages.append(np.mean(sample))\n",
    "        else:\n",
    "            fish_length_averages.append(np.nan)\n",
    "    return fish_length_averages\n",
    "\n",
    "#input quartile data series\n",
    "#split lower quartile and convert to float\n",
    "def lower_quartile_cleaner(dseries):\n",
    "    quartile_list = []\n",
    "    for quartile in dseries:\n",
    "        try:\n",
    "            if len(quartile.split(\"-\")) == 2:\n",
    "                try:\n",
    "                    quartile_list.append(float(quartile.split(\"-\")[0]))\n",
    "                except ValueError:\n",
    "                    quartile_list.append(float(\"nan\"))\n",
    "                    pass\n",
    "            else:\n",
    "                quartile_list.append(float(\"nan\"))\n",
    "        except AttributeError:\n",
    "            quartile_list.append(quartile)\n",
    "            pass\n",
    "    return quartile_list\n",
    "\n",
    "#input quartile data series\n",
    "#split upper quartile and convert to float\n",
    "def upper_quartile_cleaner(dseries):\n",
    "    quartile_list = []\n",
    "    for quartile in dseries:\n",
    "        try:\n",
    "            if len(quartile.split(\"-\")) == 2:\n",
    "                try:\n",
    "                    quartile_list.append(float(quartile.split(\"-\")[1]))\n",
    "                except ValueError:\n",
    "                    quartile_list.append(float(\"nan\"))\n",
    "                    pass\n",
    "            else:\n",
    "                quartile_list.append(float(\"nan\"))\n",
    "        except AttributeError:\n",
    "            quartile_list.append(quartile)\n",
    "            pass\n",
    "    return quartile_list\n",
    "\n"
   ]
  },
  {
   "cell_type": "code",
   "execution_count": null,
   "id": "3f872924",
   "metadata": {},
   "outputs": [],
   "source": [
    "lake.info()"
   ]
  },
  {
   "cell_type": "code",
   "execution_count": 3,
   "id": "56ceda89",
   "metadata": {},
   "outputs": [
    {
     "ename": "NameError",
     "evalue": "name 'lake' is not defined",
     "output_type": "error",
     "traceback": [
      "\u001b[1;31m---------------------------------------------------------------------------\u001b[0m",
      "\u001b[1;31mNameError\u001b[0m                                 Traceback (most recent call last)",
      "Cell \u001b[1;32mIn[3], line 2\u001b[0m\n\u001b[0;32m      1\u001b[0m \u001b[38;5;66;03m#add lat and lon columns and drop coordinates column\u001b[39;00m\n\u001b[1;32m----> 2\u001b[0m lake_df \u001b[38;5;241m=\u001b[39m \u001b[43mlake\u001b[49m\u001b[38;5;241m.\u001b[39mdrop_duplicates()\n\u001b[0;32m      3\u001b[0m lake_coordinates \u001b[38;5;241m=\u001b[39m [json\u001b[38;5;241m.\u001b[39mloads(x) \u001b[38;5;28;01mfor\u001b[39;00m x \u001b[38;5;129;01min\u001b[39;00m lake_df[\u001b[38;5;124m\"\u001b[39m\u001b[38;5;124mlake_coordinates\u001b[39m\u001b[38;5;124m\"\u001b[39m]]\n\u001b[0;32m      4\u001b[0m longitude \u001b[38;5;241m=\u001b[39m [x[\u001b[38;5;241m0\u001b[39m] \u001b[38;5;28;01mfor\u001b[39;00m x \u001b[38;5;129;01min\u001b[39;00m lake_coordinates]\n",
      "\u001b[1;31mNameError\u001b[0m: name 'lake' is not defined"
     ]
    }
   ],
   "source": [
    "#add lat and lon columns and drop coordinates column\n",
    "lake_df = lake.drop_duplicates()\n",
    "lake_coordinates = [json.loads(x) for x in lake_df[\"lake_coordinates\"]]\n",
    "longitude = [x[0] for x in lake_coordinates]\n",
    "latitude = [x[1] for x in lake_coordinates]\n",
    "lake_df[\"lake_longitude\"] = longitude\n",
    "lake_df[\"lake_latitude\"] = latitude\n",
    "lake_df = lake_df.drop(columns=[\"lake_coordinates\"])\n",
    "lake_df.head()"
   ]
  },
  {
   "cell_type": "code",
   "execution_count": 4,
   "id": "b9c934cc",
   "metadata": {},
   "outputs": [
    {
     "ename": "NameError",
     "evalue": "name 'lake_df' is not defined",
     "output_type": "error",
     "traceback": [
      "\u001b[1;31m---------------------------------------------------------------------------\u001b[0m",
      "\u001b[1;31mNameError\u001b[0m                                 Traceback (most recent call last)",
      "Cell \u001b[1;32mIn[4], line 1\u001b[0m\n\u001b[1;32m----> 1\u001b[0m \u001b[43mlake_df\u001b[49m\u001b[38;5;241m.\u001b[39minfo()\n",
      "\u001b[1;31mNameError\u001b[0m: name 'lake_df' is not defined"
     ]
    }
   ],
   "source": [
    "lake_df.info()"
   ]
  },
  {
   "cell_type": "code",
   "execution_count": 5,
   "id": "d1341037",
   "metadata": {},
   "outputs": [
    {
     "ename": "NameError",
     "evalue": "name 'was' is not defined",
     "output_type": "error",
     "traceback": [
      "\u001b[1;31m---------------------------------------------------------------------------\u001b[0m",
      "\u001b[1;31mNameError\u001b[0m                                 Traceback (most recent call last)",
      "Cell \u001b[1;32mIn[5], line 1\u001b[0m\n\u001b[1;32m----> 1\u001b[0m \u001b[43mwas\u001b[49m\u001b[38;5;241m.\u001b[39minfo()\n",
      "\u001b[1;31mNameError\u001b[0m: name 'was' is not defined"
     ]
    }
   ],
   "source": [
    "was.info()"
   ]
  },
  {
   "cell_type": "code",
   "execution_count": null,
   "id": "8d6ae627",
   "metadata": {},
   "outputs": [],
   "source": [
    "#add lat lon columns and drop coordinates column\n",
    "was_df = was.drop_duplicates()\n",
    "site_coordinates = [json.loads(x) for x in was_df[\"was_site_coordinates\"]]\n",
    "longitude = [x[0] for x in site_coordinates]\n",
    "latitude = [x[1] for x in site_coordinates]\n",
    "was_df[\"was_site_longitude\"] = longitude\n",
    "was_df[\"was_site_latitude\"] = latitude\n",
    "was_df = was_df.drop(columns=[\"was_site_coordinates\"])\n",
    "was_df.head()"
   ]
  },
  {
   "cell_type": "code",
   "execution_count": null,
   "id": "c5da460e",
   "metadata": {},
   "outputs": [],
   "source": [
    "was_df.info()"
   ]
  },
  {
   "cell_type": "code",
   "execution_count": null,
   "id": "d328f12e",
   "metadata": {},
   "outputs": [],
   "source": [
    "length.info()"
   ]
  },
  {
   "cell_type": "code",
   "execution_count": null,
   "id": "dadfa364",
   "metadata": {
    "scrolled": false
   },
   "outputs": [],
   "source": [
    "#clean up the length file duplicates, clean dates, convert lengths in count to histogram, and create average column\n",
    "length_df = length.drop_duplicates()\n",
    "length_df[\"survey_date\"] = survey_date_cleaner(length_df[\"survey_date\"])\n",
    "length_df[\"fish_count\"] = fish_length_cleaner(length_df[\"fish_count\"])\n",
    "length_df[\"average_length\"] = fish_length_averager(length_df[\"fish_count\"])\n",
    "length_df = length_df.sort_values(\"survey_date\")\n",
    "#add length_id column\n",
    "length_df = length_df.reset_index(drop=True)\n",
    "length_id = length_df.index\n",
    "length_df.insert(loc=0, column=\"length_id\", value=length_id)\n",
    "length_df.head()"
   ]
  },
  {
   "cell_type": "code",
   "execution_count": null,
   "id": "fd6c39f0",
   "metadata": {},
   "outputs": [],
   "source": [
    "length_df.info()"
   ]
  },
  {
   "cell_type": "code",
   "execution_count": null,
   "id": "1cf4c6fb",
   "metadata": {},
   "outputs": [],
   "source": [
    "cpue.info()"
   ]
  },
  {
   "cell_type": "code",
   "execution_count": null,
   "id": "fadd8e18",
   "metadata": {},
   "outputs": [],
   "source": [
    "#clean cpue and date and separate quartiles into columns.\n",
    "cpue_df = cpue.drop_duplicates()\n",
    "cpue_df[\"cpue\"] = cpue_cleaner(cpue_df[\"cpue\"])\n",
    "cpue_df[\"survey_date\"] = survey_date_cleaner(cpue_df[\"survey_date\"])\n",
    "cpue_df[\"count_lower_quartile\"] = lower_quartile_cleaner(cpue_df[\"quartile_count\"])\n",
    "cpue_df[\"count_upper_quartile\"] = upper_quartile_cleaner(cpue_df[\"quartile_count\"])\n",
    "cpue_df[\"weight_lower_quartile\"] = lower_quartile_cleaner(cpue_df[\"quartile_weight\"])\n",
    "cpue_df[\"weight_upper_quartile\"] = upper_quartile_cleaner(cpue_df[\"quartile_weight\"])\n",
    "cpue_df[\"gear_count\"] = cpue[\"gear_count\"].astype(\"int\")\n",
    "cpue_df = cpue_df.drop(columns=[\"quartile_count\", \"quartile_weight\"])\n",
    "cpue_df = cpue_df.sort_values(\"survey_date\")\n",
    "#add cpue_id column\n",
    "cpue_df = cpue_df.reset_index(drop=True)\n",
    "cpue_id = cpue_df.index\n",
    "cpue_df.insert(loc=0, column=\"cpue_id\", value=cpue_id)\n",
    "cpue_df.head()"
   ]
  },
  {
   "cell_type": "code",
   "execution_count": null,
   "id": "35d730c1",
   "metadata": {
    "scrolled": false
   },
   "outputs": [],
   "source": [
    "cpue_df.info()"
   ]
  },
  {
   "cell_type": "code",
   "execution_count": null,
   "id": "2d4a9959",
   "metadata": {},
   "outputs": [],
   "source": [
    "#create csv files to load into database\n",
    "lake_df.to_csv(\"lake_info/lake_information_clean.csv\", index=False)\n",
    "length_df.to_csv(\"fish_length_info/fish_length_clean.csv\", index=False)\n",
    "cpue_df.to_csv(\"fish_cpue_info/fish_cpue_clean.csv\", index=False)"
   ]
  },
  {
   "cell_type": "code",
   "execution_count": null,
   "id": "dd7c105f",
   "metadata": {},
   "outputs": [],
   "source": [
    "#add lake id to water access sites\n",
    "was_values = [x.replace(\"\\'\",\"\\\"\") for x in list(lake_df[\"water_access_sites\"])]\n",
    "was_values = [json.loads(x) for x in was_values]\n",
    "lake_df[\"was_site_id\"] = was_values\n",
    "was_lake = lake_df.loc[lake_df[\"was_site_id\"].str.len() > 0, [\"lake_id\", \"lake_name\", \"was_site_id\"]]\n",
    "was_exploded = was_lake.explode(\"was_site_id\")\n",
    "was_exploded_clean = was_exploded.drop_duplicates(subset = \"was_site_id\")\n",
    "was_df = was_df.merge(was_exploded_clean, on=\"was_site_id\", how=\"left\")\n",
    "was_df.head(5)"
   ]
  },
  {
   "cell_type": "code",
   "execution_count": null,
   "id": "9a6779b3",
   "metadata": {},
   "outputs": [],
   "source": [
    "#create csv file to load into database\n",
    "was_df.to_csv(\"was_info/water_access_information_clean.csv\", index=False)"
   ]
  },
  {
   "cell_type": "code",
   "execution_count": null,
   "id": "16d71463",
   "metadata": {},
   "outputs": [],
   "source": []
  }
 ],
 "metadata": {
  "kernelspec": {
   "display_name": "Python 3 (ipykernel)",
   "language": "python",
   "name": "python3"
  },
  "language_info": {
   "codemirror_mode": {
    "name": "ipython",
    "version": 3
   },
   "file_extension": ".py",
   "mimetype": "text/x-python",
   "name": "python",
   "nbconvert_exporter": "python",
   "pygments_lexer": "ipython3",
   "version": "3.9.13"
  }
 },
 "nbformat": 4,
 "nbformat_minor": 5
}
